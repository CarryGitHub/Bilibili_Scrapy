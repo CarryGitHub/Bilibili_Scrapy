{
 "cells": [
  {
   "cell_type": "code",
   "execution_count": 3,
   "metadata": {},
   "outputs": [],
   "source": [
    "import pandas as pd"
   ]
  },
  {
   "cell_type": "code",
   "execution_count": 37,
   "metadata": {},
   "outputs": [
    {
     "data": {
      "text/html": [
       "<div>\n",
       "<style scoped>\n",
       "    .dataframe tbody tr th:only-of-type {\n",
       "        vertical-align: middle;\n",
       "    }\n",
       "\n",
       "    .dataframe tbody tr th {\n",
       "        vertical-align: top;\n",
       "    }\n",
       "\n",
       "    .dataframe thead th {\n",
       "        text-align: right;\n",
       "    }\n",
       "</style>\n",
       "<table border=\"1\" class=\"dataframe\">\n",
       "  <thead>\n",
       "    <tr style=\"text-align: right;\">\n",
       "      <th></th>\n",
       "      <th>comment</th>\n",
       "      <th>play</th>\n",
       "      <th>title</th>\n",
       "      <th>aid</th>\n",
       "      <th>length</th>\n",
       "    </tr>\n",
       "  </thead>\n",
       "  <tbody>\n",
       "    <tr>\n",
       "      <td>0</td>\n",
       "      <td>3432</td>\n",
       "      <td>2012457</td>\n",
       "      <td>华农兄弟：受邀参加第十七届中国国际农产品交易会，很多好吃的，带大家看一下</td>\n",
       "      <td>76309064</td>\n",
       "      <td>03:51</td>\n",
       "    </tr>\n",
       "    <tr>\n",
       "      <td>1</td>\n",
       "      <td>4549</td>\n",
       "      <td>2222663</td>\n",
       "      <td>华农兄弟：小狗又胖了，狗妈妈又怀孕了，这下真的一地都是狗了</td>\n",
       "      <td>75794772</td>\n",
       "      <td>06:27</td>\n",
       "    </tr>\n",
       "    <tr>\n",
       "      <td>2</td>\n",
       "      <td>3951</td>\n",
       "      <td>2827430</td>\n",
       "      <td>华农兄弟：好久没吃肉了，刚好大婶养了好多鸡，抓一只来做叫花鸡</td>\n",
       "      <td>75667524</td>\n",
       "      <td>11:17</td>\n",
       "    </tr>\n",
       "    <tr>\n",
       "      <td>3</td>\n",
       "      <td>5463</td>\n",
       "      <td>2086728</td>\n",
       "      <td>华农兄弟：看一下我们家的脐橙熟了没有，顺便摘一点回去吃</td>\n",
       "      <td>75258947</td>\n",
       "      <td>07:30</td>\n",
       "    </tr>\n",
       "    <tr>\n",
       "      <td>4</td>\n",
       "      <td>3600</td>\n",
       "      <td>1820956</td>\n",
       "      <td>华农兄弟：捡点拐枣泡酒，路过兄弟家的玉米地，搞点来喂猪</td>\n",
       "      <td>75030623</td>\n",
       "      <td>08:30</td>\n",
       "    </tr>\n",
       "    <tr>\n",
       "      <td>...</td>\n",
       "      <td>...</td>\n",
       "      <td>...</td>\n",
       "      <td>...</td>\n",
       "      <td>...</td>\n",
       "      <td>...</td>\n",
       "    </tr>\n",
       "    <tr>\n",
       "      <td>269</td>\n",
       "      <td>1784</td>\n",
       "      <td>2253945</td>\n",
       "      <td>华农兄弟：这只竹鼠3天都不吃东西，小伙只能把它红烧了</td>\n",
       "      <td>30136174</td>\n",
       "      <td>04:25</td>\n",
       "    </tr>\n",
       "    <tr>\n",
       "      <td>270</td>\n",
       "      <td>1830</td>\n",
       "      <td>1959079</td>\n",
       "      <td>华农兄弟：这只竹鼠好像中暑了，没办法，只好拿到河边炖了</td>\n",
       "      <td>30135458</td>\n",
       "      <td>05:17</td>\n",
       "    </tr>\n",
       "    <tr>\n",
       "      <td>271</td>\n",
       "      <td>877</td>\n",
       "      <td>1412797</td>\n",
       "      <td>华农兄弟：这只竹鼠打架多处受伤了，可能没救了，只好把它做成叫花鼠</td>\n",
       "      <td>30127246</td>\n",
       "      <td>03:59</td>\n",
       "    </tr>\n",
       "    <tr>\n",
       "      <td>272</td>\n",
       "      <td>1845</td>\n",
       "      <td>3422362</td>\n",
       "      <td>华农兄弟：打下来一个黄蜂窝，生吃了2只蜂蛹，把其它的油炸了</td>\n",
       "      <td>30123120</td>\n",
       "      <td>04:03</td>\n",
       "    </tr>\n",
       "    <tr>\n",
       "      <td>273</td>\n",
       "      <td>600</td>\n",
       "      <td>898176</td>\n",
       "      <td>华农兄弟：竹鼠中暑有什么症状？如何预防和救治？看了这个视频你就知道了</td>\n",
       "      <td>30121591</td>\n",
       "      <td>02:47</td>\n",
       "    </tr>\n",
       "  </tbody>\n",
       "</table>\n",
       "<p>274 rows × 5 columns</p>\n",
       "</div>"
      ],
      "text/plain": [
       "     comment     play                                 title       aid length\n",
       "0       3432  2012457  华农兄弟：受邀参加第十七届中国国际农产品交易会，很多好吃的，带大家看一下  76309064  03:51\n",
       "1       4549  2222663         华农兄弟：小狗又胖了，狗妈妈又怀孕了，这下真的一地都是狗了  75794772  06:27\n",
       "2       3951  2827430        华农兄弟：好久没吃肉了，刚好大婶养了好多鸡，抓一只来做叫花鸡  75667524  11:17\n",
       "3       5463  2086728           华农兄弟：看一下我们家的脐橙熟了没有，顺便摘一点回去吃  75258947  07:30\n",
       "4       3600  1820956           华农兄弟：捡点拐枣泡酒，路过兄弟家的玉米地，搞点来喂猪  75030623  08:30\n",
       "..       ...      ...                                   ...       ...    ...\n",
       "269     1784  2253945            华农兄弟：这只竹鼠3天都不吃东西，小伙只能把它红烧了  30136174  04:25\n",
       "270     1830  1959079           华农兄弟：这只竹鼠好像中暑了，没办法，只好拿到河边炖了  30135458  05:17\n",
       "271      877  1412797      华农兄弟：这只竹鼠打架多处受伤了，可能没救了，只好把它做成叫花鼠  30127246  03:59\n",
       "272     1845  3422362         华农兄弟：打下来一个黄蜂窝，生吃了2只蜂蛹，把其它的油炸了  30123120  04:03\n",
       "273      600   898176    华农兄弟：竹鼠中暑有什么症状？如何预防和救治？看了这个视频你就知道了  30121591  02:47\n",
       "\n",
       "[274 rows x 5 columns]"
      ]
     },
     "execution_count": 37,
     "metadata": {},
     "output_type": "execute_result"
    }
   ],
   "source": [
    "datas=pd.read_csv('videoinfo.csv')\n",
    "datas"
   ]
  },
  {
   "cell_type": "code",
   "execution_count": 31,
   "metadata": {},
   "outputs": [],
   "source": [
    "import matplotlib.pyplot as plt\n",
    "%matplotlib inline"
   ]
  },
  {
   "cell_type": "code",
   "execution_count": 40,
   "metadata": {},
   "outputs": [
    {
     "data": {
      "text/plain": [
       "<matplotlib.collections.PathCollection at 0x1d98944fa88>"
      ]
     },
     "execution_count": 40,
     "metadata": {},
     "output_type": "execute_result"
    },
    {
     "data": {
      "image/png": "[encoded data removed]",
      "text/plain": [
       "<Figure size 432x288 with 1 Axes>"
      ]
     },
     "metadata": {
      "needs_background": "light"
     },
     "output_type": "display_data"
    }
   ],
   "source": [
    "plt.scatter(datas.index,datas.aid)"
   ]
  }
 ],
 "metadata": {
  "kernelspec": {
   "display_name": "Python 3",
   "language": "python",
   "name": "python3"
  },
  "language_info": {
   "codemirror_mode": {
    "name": "ipython",
    "version": 3
   },
   "file_extension": ".py",
   "mimetype": "text/x-python",
   "name": "python",
   "nbconvert_exporter": "python",
   "pygments_lexer": "ipython3",
   "version": "3.7.4"
  }
 },
 "nbformat": 4,
 "nbformat_minor": 2
}
